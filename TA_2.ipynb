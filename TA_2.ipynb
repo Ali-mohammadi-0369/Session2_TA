{
 "cells": [
  {
   "cell_type": "markdown",
   "id": "55436950-04ff-4a02-879a-0b9978863776",
   "metadata": {},
   "source": [
    "## Write a function (SUM_OF_LIST) that takes a list of integers as input and returns the sum of all integers in the list."
   ]
  },
  {
   "cell_type": "code",
   "execution_count": 3,
   "id": "d163f5b8-3a05-496e-bde4-1817bf1beb5b",
   "metadata": {},
   "outputs": [
    {
     "name": "stdout",
     "output_type": "stream",
     "text": [
      "29\n"
     ]
    }
   ],
   "source": [
    "def SUM_OF_LIST(input_list) :\n",
    "    return sum(input_list)\n",
    "input_list = {5,6,8,10}\n",
    "output = SUM_OF_LIST(input_list)\n",
    "print(output)"
   ]
  },
  {
   "cell_type": "markdown",
   "id": "b875202c-3c72-4f6d-a387-e6ea04e7a222",
   "metadata": {},
   "source": [
    "## Create a function (CHECK_KEY) that accepts a dictionary and a key as input. The function should return True if the key exists in the dictionary and False otherwise."
   ]
  },
  {
   "cell_type": "code",
   "execution_count": 13,
   "id": "8a5b6da9-4751-4cdd-b6ed-37daf45b34d6",
   "metadata": {},
   "outputs": [
    {
     "name": "stdout",
     "output_type": "stream",
     "text": [
      "True\n"
     ]
    }
   ],
   "source": [
    "dict = {'name': 'ALI' , 'age': 23, 'phone' : 9030961818}\n",
    "key = 'age'\n",
    "def CHECK_KEY(dict, key) :\n",
    "    return key in dict\n",
    "result = CHECK_KEY(dict, key)     \n",
    "print(result)\n"
   ]
  },
  {
   "cell_type": "markdown",
   "id": "13eaef73-c944-435d-bb29-762c0f74646b",
   "metadata": {},
   "source": [
    "## Write a function reverse_string that takes a string as input and returns the string reversed.\n"
   ]
  },
  {
   "cell_type": "code",
   "execution_count": 14,
   "id": "5836e2f3-59c0-4f59-8e5f-e455def1e96b",
   "metadata": {},
   "outputs": [
    {
     "data": {
      "text/plain": [
       "'ASORABRAB'"
      ]
     },
     "execution_count": 14,
     "metadata": {},
     "output_type": "execute_result"
    }
   ],
   "source": [
    "def REVERSE_STRING(input_string):\n",
    "    return input_string[::-1]\n",
    "\n",
    "input_string = \"BARBAROSA\"\n",
    "output_string = REVERSE_STRING(input_string)\n",
    "output_string "
   ]
  },
  {
   "cell_type": "code",
   "execution_count": null,
   "id": "4a2a0539-4d34-494e-bb0e-08a58bfdfea6",
   "metadata": {},
   "outputs": [],
   "source": []
  },
  {
   "cell_type": "code",
   "execution_count": null,
   "id": "582b1cf6-20a1-403b-8375-7dc0a40410db",
   "metadata": {},
   "outputs": [],
   "source": []
  }
 ],
 "metadata": {
  "kernelspec": {
   "display_name": "Python 3 (ipykernel)",
   "language": "python",
   "name": "python3"
  },
  "language_info": {
   "codemirror_mode": {
    "name": "ipython",
    "version": 3
   },
   "file_extension": ".py",
   "mimetype": "text/x-python",
   "name": "python",
   "nbconvert_exporter": "python",
   "pygments_lexer": "ipython3",
   "version": "3.11.5"
  }
 },
 "nbformat": 4,
 "nbformat_minor": 5
}
